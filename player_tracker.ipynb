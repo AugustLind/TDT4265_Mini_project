{
 "cells": [
  {
   "cell_type": "code",
   "execution_count": 14,
   "metadata": {},
   "outputs": [
    {
     "name": "stderr",
     "output_type": "stream",
     "text": [
      "596.08s - pydevd: Sending message related to process being replaced timed-out after 5 seconds\n"
     ]
    },
    {
     "name": "stdout",
     "output_type": "stream",
     "text": [
      "Collecting natsort\n",
      "  Downloading natsort-8.4.0-py3-none-any.whl.metadata (21 kB)\n",
      "Downloading natsort-8.4.0-py3-none-any.whl (38 kB)\n",
      "Installing collected packages: natsort\n",
      "Successfully installed natsort-8.4.0\n",
      "Note: you may need to restart the kernel to use updated packages.\n"
     ]
    }
   ],
   "source": [
    "%pip install natsort"
   ]
  },
  {
   "cell_type": "code",
   "execution_count": 25,
   "metadata": {},
   "outputs": [
    {
     "name": "stdout",
     "output_type": "stream",
     "text": [
      "Processed frame 1/1802\n",
      "Processed frame 51/1802\n",
      "Processed frame 101/1802\n",
      "Processed frame 151/1802\n",
      "Processed frame 201/1802\n",
      "Processed frame 251/1802\n",
      "Processed frame 301/1802\n",
      "Processed frame 351/1802\n",
      "Processed frame 401/1802\n",
      "Processed frame 451/1802\n",
      "Processed frame 501/1802\n",
      "Processed frame 551/1802\n",
      "Processed frame 601/1802\n",
      "Processed frame 651/1802\n",
      "Processed frame 701/1802\n",
      "Processed frame 751/1802\n",
      "Processed frame 801/1802\n",
      "Processed frame 851/1802\n",
      "Processed frame 901/1802\n",
      "Processed frame 951/1802\n",
      "Processed frame 1001/1802\n",
      "Processed frame 1051/1802\n",
      "Processed frame 1101/1802\n",
      "Processed frame 1151/1802\n",
      "Processed frame 1201/1802\n",
      "Processed frame 1251/1802\n",
      "Processed frame 1301/1802\n",
      "Processed frame 1351/1802\n",
      "Processed frame 1401/1802\n",
      "Processed frame 1451/1802\n",
      "Processed frame 1501/1802\n",
      "Processed frame 1551/1802\n",
      "Processed frame 1601/1802\n",
      "Processed frame 1651/1802\n",
      "Processed frame 1701/1802\n",
      "Processed frame 1751/1802\n",
      "Processed frame 1801/1802\n",
      "Processed frame 1802/1802\n",
      "Annotated frames saved to: tracked_output\n"
     ]
    }
   ],
   "source": [
    "import cv2\n",
    "import numpy as np\n",
    "from ultralytics import YOLO\n",
    "import supervision as sv\n",
    "import os\n",
    "import glob\n",
    "from natsort import natsorted\n",
    "\n",
    "# Load YOLOv8 model\n",
    "model = YOLO(\"yolov8n.pt\")  # Consider 'yolov8s.pt' or 'yolov8m.pt' for higher accuracy\n",
    "\n",
    "# Tracker initialization\n",
    "tracker = sv.ByteTrack()\n",
    "\n",
    "# Initialize annotators\n",
    "box_annotator = sv.BoxAnnotator(thickness=2)\n",
    "label_annotator = sv.LabelAnnotator(\n",
    "    text_scale=0.5,\n",
    "    text_thickness=1,\n",
    "    text_padding=5\n",
    ")\n",
    "\n",
    "def process_image_sequence(images_folder, target_classes=['person'], confidence_threshold=0.3, save_output=True, output_folder=\"tracked_output\", fps=30):\n",
    "    # Collect and sort images naturally\n",
    "    image_files = natsorted(glob.glob(os.path.join(images_folder, '*.*')))\n",
    "\n",
    "    if not image_files:\n",
    "        print(f\"No images found in '{images_folder}'\")\n",
    "        return\n",
    "\n",
    "    # Prepare output folder\n",
    "    os.makedirs(output_folder, exist_ok=True)\n",
    "\n",
    "    # Class IDs extraction\n",
    "    class_ids = [class_id for class_id, name in model.names.items() if name in target_classes]\n",
    "\n",
    "    for idx, image_path in enumerate(image_files):\n",
    "        frame = cv2.imread(image_path)\n",
    "\n",
    "        # YOLO inference\n",
    "        results = model(frame, conf=confidence_threshold, classes=class_ids, verbose=False)[0]\n",
    "\n",
    "        # Detections processing\n",
    "        detections = sv.Detections.from_ultralytics(results)\n",
    "\n",
    "        # Tracking\n",
    "        tracked_detections = tracker.update_with_detections(detections)\n",
    "\n",
    "        # Label formatting\n",
    "        labels = [f\"Player #{track_id}\" for track_id in tracked_detections.tracker_id]\n",
    "\n",
    "        # Annotation\n",
    "        frame_with_boxes = box_annotator.annotate(scene=frame.copy(), detections=tracked_detections)\n",
    "        annotated_frame = label_annotator.annotate(scene=frame_with_boxes, detections=tracked_detections, labels=labels)\n",
    "\n",
    "        # Save annotated images\n",
    "        if save_output:\n",
    "            output_image_path = os.path.join(output_folder, f\"frame_{idx + 1:05d}.jpg\")\n",
    "            cv2.imwrite(output_image_path, annotated_frame)\n",
    "\n",
    "        # Progress update\n",
    "        if idx % 50 == 0 or idx == len(image_files) - 1:\n",
    "            print(f\"Processed frame {idx + 1}/{len(image_files)}\")\n",
    "\n",
    "    print(f\"Annotated frames saved to: {output_folder}\")\n",
    "\n",
    "if __name__ == \"__main__\":\n",
    "    images_folder = \"RBK_TDT17/1_train-val_1min_aalesund_from_start/img1\"\n",
    "    process_image_sequence(images_folder, target_classes=['person'], confidence_threshold=0.3, save_output=True)\n"
   ]
  }
 ],
 "metadata": {
  "kernelspec": {
   "display_name": ".venv",
   "language": "python",
   "name": "python3"
  },
  "language_info": {
   "codemirror_mode": {
    "name": "ipython",
    "version": 3
   },
   "file_extension": ".py",
   "mimetype": "text/x-python",
   "name": "python",
   "nbconvert_exporter": "python",
   "pygments_lexer": "ipython3",
   "version": "3.10.12"
  }
 },
 "nbformat": 4,
 "nbformat_minor": 2
}
